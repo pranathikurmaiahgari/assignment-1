{
 "cells": [
  {
   "cell_type": "code",
   "execution_count": 21,
   "id": "44f5caef-05fa-438f-8ddf-2877ecdf8918",
   "metadata": {},
   "outputs": [
    {
     "name": "stdout",
     "output_type": "stream",
     "text": [
      "Hello world\n",
      "[1, 2, 3, 4, 5]\n",
      "34.567\n",
      "(1, 34, 56)\n"
     ]
    }
   ],
   "source": [
    "a=\"Hello world\"\n",
    "b=[1,2,3,4,5]\n",
    "c=34.567\n",
    "d=(1,34,56)\n",
    "print(a)\n",
    "print(b)\n",
    "print(c)\n",
    "print(d)\n"
   ]
  },
  {
   "cell_type": "code",
   "execution_count": 19,
   "id": "8456af60-b150-497b-a124-86ad35577072",
   "metadata": {},
   "outputs": [
    {
     "name": "stdout",
     "output_type": "stream",
     "text": [
      "<class 'str'>\n",
      "<class 'str'>\n",
      "<class 'list'>\n",
      "<class 'int'>\n"
     ]
    }
   ],
   "source": [
    "var1=\" \"\n",
    "print(type(var1))\n",
    "var2=\"[DS,ML,Python]\"\n",
    "print(type(var2))\n",
    "var3=[\"DS\",\"ML\",\"Python\"]\n",
    "print(type(var3))\n",
    "var4=1\n",
    "print(type(var4))"
   ]
  },
  {
   "cell_type": "code",
   "execution_count": 22,
   "id": "689cdf72-e05d-4a78-92c3-dc07c95feda6",
   "metadata": {},
   "outputs": [
    {
     "name": "stdout",
     "output_type": "stream",
     "text": [
      "2.0\n",
      "1\n",
      "2\n",
      "25\n"
     ]
    }
   ],
   "source": [
    "#use of /\n",
    "#it is used for division\n",
    "print(4/2)\n",
    "#use of %\n",
    "#it is used for modular division\n",
    "print(65%2)\n",
    "#usage of //\n",
    "#it is used for floor division\n",
    "print(5//2)\n",
    "#usage of **\n",
    "#it is used for exponentiation\n",
    "print(5**2)"
   ]
  },
  {
   "cell_type": "code",
   "execution_count": 24,
   "id": "95809651-3e64-41ee-88c6-59e5e246bbca",
   "metadata": {},
   "outputs": [
    {
     "name": "stdout",
     "output_type": "stream",
     "text": [
      "1 <class 'int'>\n",
      "(2+3j) <class 'complex'>\n",
      "3 <class 'int'>\n",
      "True <class 'bool'>\n",
      "5 <class 'int'>\n",
      "6 <class 'int'>\n",
      "abcd <class 'str'>\n",
      "8.56 <class 'float'>\n",
      "9 <class 'int'>\n",
      "0 <class 'int'>\n"
     ]
    }
   ],
   "source": [
    "a=[1,2+3j,3,True,5,6,\"abcd\",8.56,9,0]\n",
    "for i in a:\n",
    "    print(i,type(i))"
   ]
  },
  {
   "cell_type": "code",
   "execution_count": 12,
   "id": "9c4a1a20-bf4a-42e8-81da-e5a641825a4b",
   "metadata": {},
   "outputs": [
    {
     "name": "stdout",
     "output_type": "stream",
     "text": [
      "A is divisible by B and it is divisible by 2 times\n"
     ]
    }
   ],
   "source": [
    "a=12\n",
    "b=2\n",
    "count=0\n",
    "while a%b==0:\n",
    "    a=a/b\n",
    "    count=count+1\n",
    "print(\"A is divisible by B and it is divisible by %d times\"%count)\n"
   ]
  },
  {
   "cell_type": "code",
   "execution_count": 2,
   "id": "f000fe8e-5d4b-4e04-9208-b4267ea19dcf",
   "metadata": {},
   "outputs": [
    {
     "name": "stdout",
     "output_type": "stream",
     "text": [
      "0 is divisible by 3\n",
      "1 is not divisible by 3\n",
      "2 is not divisible by 3\n",
      "3 is divisible by 3\n",
      "4 is not divisible by 3\n",
      "5 is not divisible by 3\n",
      "6 is divisible by 3\n",
      "7 is not divisible by 3\n",
      "8 is not divisible by 3\n",
      "9 is divisible by 3\n",
      "10 is not divisible by 3\n",
      "11 is not divisible by 3\n",
      "12 is divisible by 3\n",
      "13 is not divisible by 3\n",
      "14 is not divisible by 3\n",
      "15 is divisible by 3\n",
      "16 is not divisible by 3\n",
      "17 is not divisible by 3\n",
      "18 is divisible by 3\n",
      "19 is not divisible by 3\n",
      "20 is not divisible by 3\n",
      "21 is divisible by 3\n",
      "22 is not divisible by 3\n",
      "23 is not divisible by 3\n",
      "24 is divisible by 3\n"
     ]
    }
   ],
   "source": [
    "list=range(25)\n",
    "for i in list:\n",
    "    if (i%3)==0:\n",
    "        print(\"%d is divisible by 3\"%i)\n",
    "    else:\n",
    "        print(\"%d is not divisible by 3\"%i)"
   ]
  },
  {
   "cell_type": "code",
   "execution_count": 16,
   "id": "f91d8b29-4ef4-4513-bf27-b1ac82f876ed",
   "metadata": {},
   "outputs": [
    {
     "name": "stdout",
     "output_type": "stream",
     "text": [
      "[1, 2, 3, 4]\n",
      "[1, 2, 0, 4]\n"
     ]
    },
    {
     "ename": "TypeError",
     "evalue": "'str' object does not support item assignment",
     "output_type": "error",
     "traceback": [
      "\u001b[0;31m---------------------------------------------------------------------------\u001b[0m",
      "\u001b[0;31mTypeError\u001b[0m                                 Traceback (most recent call last)",
      "Cell \u001b[0;32mIn[16], line 8\u001b[0m\n\u001b[1;32m      6\u001b[0m \u001b[38;5;66;03m#immutabity means we cannnot change or append values to it\u001b[39;00m\n\u001b[1;32m      7\u001b[0m a\u001b[38;5;241m=\u001b[39m\u001b[38;5;124m\"\u001b[39m\u001b[38;5;124mhello\u001b[39m\u001b[38;5;124m\"\u001b[39m\n\u001b[0;32m----> 8\u001b[0m \u001b[43ma\u001b[49m\u001b[43m[\u001b[49m\u001b[38;5;241;43m2\u001b[39;49m\u001b[43m]\u001b[49m\u001b[38;5;241m=\u001b[39m\u001b[38;5;124m\"\u001b[39m\u001b[38;5;124ma\u001b[39m\u001b[38;5;124m\"\u001b[39m\n\u001b[1;32m      9\u001b[0m \u001b[38;5;28mprint\u001b[39m(a)\n",
      "\u001b[0;31mTypeError\u001b[0m: 'str' object does not support item assignment"
     ]
    }
   ],
   "source": [
    "#mutabilty means we change or append values to it\n",
    "list=[1,2,3,4]\n",
    "print(list)\n",
    "list[2]=0\n",
    "print(list)\n",
    "#immutabity means we cannnot change or append values to it\n",
    "a=\"hello\"\n",
    "a[2]=\"a\"\n",
    "print(a)\n"
   ]
  },
  {
   "cell_type": "code",
   "execution_count": null,
   "id": "65556b7f-98c6-432a-a177-4fd59e113627",
   "metadata": {},
   "outputs": [],
   "source": []
  },
  {
   "cell_type": "code",
   "execution_count": null,
   "id": "530f24b2-65f8-4359-8ead-3a98c5213ba2",
   "metadata": {},
   "outputs": [],
   "source": []
  },
  {
   "cell_type": "code",
   "execution_count": null,
   "id": "42bc3f44-6cf4-4e40-8054-400372e87abc",
   "metadata": {},
   "outputs": [],
   "source": []
  },
  {
   "cell_type": "code",
   "execution_count": null,
   "id": "a24898d6-94b7-4800-847d-65dc79e98f90",
   "metadata": {},
   "outputs": [],
   "source": []
  },
  {
   "cell_type": "code",
   "execution_count": null,
   "id": "e9bfc42d-f557-42d9-8ff9-efe7b881c02c",
   "metadata": {},
   "outputs": [],
   "source": []
  }
 ],
 "metadata": {
  "kernelspec": {
   "display_name": "Python 3 (ipykernel)",
   "language": "python",
   "name": "python3"
  },
  "language_info": {
   "codemirror_mode": {
    "name": "ipython",
    "version": 3
   },
   "file_extension": ".py",
   "mimetype": "text/x-python",
   "name": "python",
   "nbconvert_exporter": "python",
   "pygments_lexer": "ipython3",
   "version": "3.10.8"
  }
 },
 "nbformat": 4,
 "nbformat_minor": 5
}
